{
  "nbformat": 4,
  "nbformat_minor": 0,
  "metadata": {
    "kernelspec": {
      "display_name": "bai",
      "language": "python",
      "name": "bai"
    },
    "language_info": {
      "codemirror_mode": {
        "name": "ipython",
        "version": 3
      },
      "file_extension": ".py",
      "mimetype": "text/x-python",
      "name": "python",
      "nbconvert_exporter": "python",
      "pygments_lexer": "ipython3",
      "version": "3.5.6"
    },
    "colab": {
      "name": "assignment_1.ipynb",
      "provenance": [],
      "collapsed_sections": [],
      "include_colab_link": true
    },
    "accelerator": "GPU",
    "widgets": {
      "application/vnd.jupyter.widget-state+json": {
        "5545cc45ea634ad7b952320b101114d4": {
          "model_module": "@jupyter-widgets/controls",
          "model_name": "ButtonModel",
          "state": {
            "_view_name": "ButtonView",
            "style": "IPY_MODEL_7b96f4944c704ab4b36275af0571a750",
            "_dom_classes": [],
            "description": "Read the function?\n Click me!",
            "_model_name": "ButtonModel",
            "button_style": "",
            "_view_module": "@jupyter-widgets/controls",
            "_model_module_version": "1.5.0",
            "tooltip": "",
            "_view_count": null,
            "disabled": false,
            "_view_module_version": "1.5.0",
            "layout": "IPY_MODEL_20126488f11f4feea0a24bac96586dd5",
            "_model_module": "@jupyter-widgets/controls",
            "icon": ""
          }
        },
        "7b96f4944c704ab4b36275af0571a750": {
          "model_module": "@jupyter-widgets/controls",
          "model_name": "ButtonStyleModel",
          "state": {
            "_view_name": "StyleView",
            "_model_name": "ButtonStyleModel",
            "_view_module": "@jupyter-widgets/base",
            "_model_module_version": "1.5.0",
            "_view_count": null,
            "button_color": null,
            "font_weight": "",
            "_view_module_version": "1.2.0",
            "_model_module": "@jupyter-widgets/controls"
          }
        },
        "20126488f11f4feea0a24bac96586dd5": {
          "model_module": "@jupyter-widgets/base",
          "model_name": "LayoutModel",
          "state": {
            "_view_name": "LayoutView",
            "grid_template_rows": null,
            "right": null,
            "justify_content": null,
            "_view_module": "@jupyter-widgets/base",
            "overflow": null,
            "_model_module_version": "1.2.0",
            "_view_count": null,
            "flex_flow": null,
            "width": "auto",
            "min_width": null,
            "border": null,
            "align_items": null,
            "bottom": null,
            "_model_module": "@jupyter-widgets/base",
            "top": null,
            "grid_column": null,
            "overflow_y": null,
            "overflow_x": null,
            "grid_auto_flow": null,
            "grid_area": null,
            "grid_template_columns": null,
            "flex": null,
            "_model_name": "LayoutModel",
            "justify_items": null,
            "grid_row": null,
            "max_height": null,
            "align_content": null,
            "visibility": null,
            "align_self": null,
            "height": "90px",
            "min_height": null,
            "padding": null,
            "grid_auto_rows": null,
            "grid_gap": null,
            "max_width": null,
            "order": null,
            "_view_module_version": "1.2.0",
            "grid_template_areas": null,
            "object_position": null,
            "object_fit": null,
            "grid_auto_columns": null,
            "margin": null,
            "display": null,
            "left": null
          }
        },
        "76141295e292491fb040faf329c9b837": {
          "model_module": "@jupyter-widgets/output",
          "model_name": "OutputModel",
          "state": {
            "_view_name": "OutputView",
            "msg_id": "",
            "_dom_classes": [],
            "_model_name": "OutputModel",
            "outputs": [
              {
                "output_type": "stream",
                "metadata": {
                  "tags": []
                },
                "text": "As you can see, the function simply returns an object of the class CustomCNN, which is defined in res/models/CustomCNN.py\nThis is our neural network model.\n",
                "stream": "stdout"
              },
              {
                "output_type": "stream",
                "metadata": {
                  "tags": []
                },
                "text": "As you can see, the function simply returns an object of the class CustomCNN, which is defined in res/models/CustomCNN.py\nThis is our neural network model.\n",
                "stream": "stdout"
              }
            ],
            "_view_module": "@jupyter-widgets/output",
            "_model_module_version": "1.0.0",
            "_view_count": null,
            "_view_module_version": "1.0.0",
            "layout": "IPY_MODEL_a0faf70ae8d44cb1937cbed6ff45262c",
            "_model_module": "@jupyter-widgets/output"
          }
        },
        "a0faf70ae8d44cb1937cbed6ff45262c": {
          "model_module": "@jupyter-widgets/base",
          "model_name": "LayoutModel",
          "state": {
            "_view_name": "LayoutView",
            "grid_template_rows": null,
            "right": null,
            "justify_content": null,
            "_view_module": "@jupyter-widgets/base",
            "overflow": null,
            "_model_module_version": "1.2.0",
            "_view_count": null,
            "flex_flow": null,
            "width": null,
            "min_width": null,
            "border": null,
            "align_items": null,
            "bottom": null,
            "_model_module": "@jupyter-widgets/base",
            "top": null,
            "grid_column": null,
            "overflow_y": null,
            "overflow_x": null,
            "grid_auto_flow": null,
            "grid_area": null,
            "grid_template_columns": null,
            "flex": null,
            "_model_name": "LayoutModel",
            "justify_items": null,
            "grid_row": null,
            "max_height": null,
            "align_content": null,
            "visibility": null,
            "align_self": null,
            "height": null,
            "min_height": null,
            "padding": null,
            "grid_auto_rows": null,
            "grid_gap": null,
            "max_width": null,
            "order": null,
            "_view_module_version": "1.2.0",
            "grid_template_areas": null,
            "object_position": null,
            "object_fit": null,
            "grid_auto_columns": null,
            "margin": null,
            "display": null,
            "left": null
          }
        },
        "11236bac7b1549adb450ce4050e7a655": {
          "model_module": "@jupyter-widgets/controls",
          "model_name": "HBoxModel",
          "state": {
            "_view_name": "HBoxView",
            "_dom_classes": [],
            "_model_name": "HBoxModel",
            "_view_module": "@jupyter-widgets/controls",
            "_model_module_version": "1.5.0",
            "_view_count": null,
            "_view_module_version": "1.5.0",
            "box_style": "",
            "layout": "IPY_MODEL_94a5b758c7e543029111f6433637a5c5",
            "_model_module": "@jupyter-widgets/controls",
            "children": [
              "IPY_MODEL_79d2ddb5b7a64162903b17a702b71b3a",
              "IPY_MODEL_ef62c603fa7248449b36ef8844c678f8"
            ]
          }
        },
        "94a5b758c7e543029111f6433637a5c5": {
          "model_module": "@jupyter-widgets/base",
          "model_name": "LayoutModel",
          "state": {
            "_view_name": "LayoutView",
            "grid_template_rows": null,
            "right": null,
            "justify_content": null,
            "_view_module": "@jupyter-widgets/base",
            "overflow": null,
            "_model_module_version": "1.2.0",
            "_view_count": null,
            "flex_flow": null,
            "width": null,
            "min_width": null,
            "border": null,
            "align_items": null,
            "bottom": null,
            "_model_module": "@jupyter-widgets/base",
            "top": null,
            "grid_column": null,
            "overflow_y": null,
            "overflow_x": null,
            "grid_auto_flow": null,
            "grid_area": null,
            "grid_template_columns": null,
            "flex": null,
            "_model_name": "LayoutModel",
            "justify_items": null,
            "grid_row": null,
            "max_height": null,
            "align_content": null,
            "visibility": null,
            "align_self": null,
            "height": null,
            "min_height": null,
            "padding": null,
            "grid_auto_rows": null,
            "grid_gap": null,
            "max_width": null,
            "order": null,
            "_view_module_version": "1.2.0",
            "grid_template_areas": null,
            "object_position": null,
            "object_fit": null,
            "grid_auto_columns": null,
            "margin": null,
            "display": null,
            "left": null
          }
        },
        "79d2ddb5b7a64162903b17a702b71b3a": {
          "model_module": "@jupyter-widgets/controls",
          "model_name": "FloatProgressModel",
          "state": {
            "_view_name": "ProgressView",
            "style": "IPY_MODEL_f9a89b19e2774137b11ba0d3f4c28156",
            "_dom_classes": [],
            "description": "100%",
            "_model_name": "FloatProgressModel",
            "bar_style": "success",
            "max": 6000,
            "_view_module": "@jupyter-widgets/controls",
            "_model_module_version": "1.5.0",
            "value": 6000,
            "_view_count": null,
            "_view_module_version": "1.5.0",
            "orientation": "horizontal",
            "min": 0,
            "description_tooltip": null,
            "_model_module": "@jupyter-widgets/controls",
            "layout": "IPY_MODEL_7e5f5681d42a4c338d2c02af2211109d"
          }
        },
        "ef62c603fa7248449b36ef8844c678f8": {
          "model_module": "@jupyter-widgets/controls",
          "model_name": "HTMLModel",
          "state": {
            "_view_name": "HTMLView",
            "style": "IPY_MODEL_347594a058074d8b872de3bd3ec1fc4d",
            "_dom_classes": [],
            "description": "",
            "_model_name": "HTMLModel",
            "placeholder": "​",
            "_view_module": "@jupyter-widgets/controls",
            "_model_module_version": "1.5.0",
            "value": " 6000/6000 [00:45&lt;00:00, 132.29it/s]",
            "_view_count": null,
            "_view_module_version": "1.5.0",
            "description_tooltip": null,
            "_model_module": "@jupyter-widgets/controls",
            "layout": "IPY_MODEL_4d9dc607edf944e180765a443cae73d1"
          }
        },
        "f9a89b19e2774137b11ba0d3f4c28156": {
          "model_module": "@jupyter-widgets/controls",
          "model_name": "ProgressStyleModel",
          "state": {
            "_view_name": "StyleView",
            "_model_name": "ProgressStyleModel",
            "description_width": "initial",
            "_view_module": "@jupyter-widgets/base",
            "_model_module_version": "1.5.0",
            "_view_count": null,
            "_view_module_version": "1.2.0",
            "bar_color": null,
            "_model_module": "@jupyter-widgets/controls"
          }
        },
        "7e5f5681d42a4c338d2c02af2211109d": {
          "model_module": "@jupyter-widgets/base",
          "model_name": "LayoutModel",
          "state": {
            "_view_name": "LayoutView",
            "grid_template_rows": null,
            "right": null,
            "justify_content": null,
            "_view_module": "@jupyter-widgets/base",
            "overflow": null,
            "_model_module_version": "1.2.0",
            "_view_count": null,
            "flex_flow": null,
            "width": null,
            "min_width": null,
            "border": null,
            "align_items": null,
            "bottom": null,
            "_model_module": "@jupyter-widgets/base",
            "top": null,
            "grid_column": null,
            "overflow_y": null,
            "overflow_x": null,
            "grid_auto_flow": null,
            "grid_area": null,
            "grid_template_columns": null,
            "flex": null,
            "_model_name": "LayoutModel",
            "justify_items": null,
            "grid_row": null,
            "max_height": null,
            "align_content": null,
            "visibility": null,
            "align_self": null,
            "height": null,
            "min_height": null,
            "padding": null,
            "grid_auto_rows": null,
            "grid_gap": null,
            "max_width": null,
            "order": null,
            "_view_module_version": "1.2.0",
            "grid_template_areas": null,
            "object_position": null,
            "object_fit": null,
            "grid_auto_columns": null,
            "margin": null,
            "display": null,
            "left": null
          }
        },
        "347594a058074d8b872de3bd3ec1fc4d": {
          "model_module": "@jupyter-widgets/controls",
          "model_name": "DescriptionStyleModel",
          "state": {
            "_view_name": "StyleView",
            "_model_name": "DescriptionStyleModel",
            "description_width": "",
            "_view_module": "@jupyter-widgets/base",
            "_model_module_version": "1.5.0",
            "_view_count": null,
            "_view_module_version": "1.2.0",
            "_model_module": "@jupyter-widgets/controls"
          }
        },
        "4d9dc607edf944e180765a443cae73d1": {
          "model_module": "@jupyter-widgets/base",
          "model_name": "LayoutModel",
          "state": {
            "_view_name": "LayoutView",
            "grid_template_rows": null,
            "right": null,
            "justify_content": null,
            "_view_module": "@jupyter-widgets/base",
            "overflow": null,
            "_model_module_version": "1.2.0",
            "_view_count": null,
            "flex_flow": null,
            "width": null,
            "min_width": null,
            "border": null,
            "align_items": null,
            "bottom": null,
            "_model_module": "@jupyter-widgets/base",
            "top": null,
            "grid_column": null,
            "overflow_y": null,
            "overflow_x": null,
            "grid_auto_flow": null,
            "grid_area": null,
            "grid_template_columns": null,
            "flex": null,
            "_model_name": "LayoutModel",
            "justify_items": null,
            "grid_row": null,
            "max_height": null,
            "align_content": null,
            "visibility": null,
            "align_self": null,
            "height": null,
            "min_height": null,
            "padding": null,
            "grid_auto_rows": null,
            "grid_gap": null,
            "max_width": null,
            "order": null,
            "_view_module_version": "1.2.0",
            "grid_template_areas": null,
            "object_position": null,
            "object_fit": null,
            "grid_auto_columns": null,
            "margin": null,
            "display": null,
            "left": null
          }
        },
        "883a9c0e354d43ab8d98f1e430aa47b8": {
          "model_module": "@jupyter-widgets/controls",
          "model_name": "HBoxModel",
          "state": {
            "_view_name": "HBoxView",
            "_dom_classes": [],
            "_model_name": "HBoxModel",
            "_view_module": "@jupyter-widgets/controls",
            "_model_module_version": "1.5.0",
            "_view_count": null,
            "_view_module_version": "1.5.0",
            "box_style": "",
            "layout": "IPY_MODEL_6c52bbbf9f1c440fb8608be23f92b9df",
            "_model_module": "@jupyter-widgets/controls",
            "children": [
              "IPY_MODEL_cc830540d5fb456fa32ab24a8eff8004",
              "IPY_MODEL_a97166b23d6c4d86989ad22f5254df62"
            ]
          }
        },
        "6c52bbbf9f1c440fb8608be23f92b9df": {
          "model_module": "@jupyter-widgets/base",
          "model_name": "LayoutModel",
          "state": {
            "_view_name": "LayoutView",
            "grid_template_rows": null,
            "right": null,
            "justify_content": null,
            "_view_module": "@jupyter-widgets/base",
            "overflow": null,
            "_model_module_version": "1.2.0",
            "_view_count": null,
            "flex_flow": null,
            "width": null,
            "min_width": null,
            "border": null,
            "align_items": null,
            "bottom": null,
            "_model_module": "@jupyter-widgets/base",
            "top": null,
            "grid_column": null,
            "overflow_y": null,
            "overflow_x": null,
            "grid_auto_flow": null,
            "grid_area": null,
            "grid_template_columns": null,
            "flex": null,
            "_model_name": "LayoutModel",
            "justify_items": null,
            "grid_row": null,
            "max_height": null,
            "align_content": null,
            "visibility": null,
            "align_self": null,
            "height": null,
            "min_height": null,
            "padding": null,
            "grid_auto_rows": null,
            "grid_gap": null,
            "max_width": null,
            "order": null,
            "_view_module_version": "1.2.0",
            "grid_template_areas": null,
            "object_position": null,
            "object_fit": null,
            "grid_auto_columns": null,
            "margin": null,
            "display": null,
            "left": null
          }
        },
        "cc830540d5fb456fa32ab24a8eff8004": {
          "model_module": "@jupyter-widgets/controls",
          "model_name": "FloatProgressModel",
          "state": {
            "_view_name": "ProgressView",
            "style": "IPY_MODEL_fdb72bb636094ce6803ccd5e101eb1d1",
            "_dom_classes": [],
            "description": "100%",
            "_model_name": "FloatProgressModel",
            "bar_style": "success",
            "max": 1000,
            "_view_module": "@jupyter-widgets/controls",
            "_model_module_version": "1.5.0",
            "value": 1000,
            "_view_count": null,
            "_view_module_version": "1.5.0",
            "orientation": "horizontal",
            "min": 0,
            "description_tooltip": null,
            "_model_module": "@jupyter-widgets/controls",
            "layout": "IPY_MODEL_46f226608b994073a90ad1ecb76d021b"
          }
        },
        "a97166b23d6c4d86989ad22f5254df62": {
          "model_module": "@jupyter-widgets/controls",
          "model_name": "HTMLModel",
          "state": {
            "_view_name": "HTMLView",
            "style": "IPY_MODEL_c0d20ab96a8c4d3ba1dd66ff83f14bf2",
            "_dom_classes": [],
            "description": "",
            "_model_name": "HTMLModel",
            "placeholder": "​",
            "_view_module": "@jupyter-widgets/controls",
            "_model_module_version": "1.5.0",
            "value": " 1000/1000 [00:04&lt;00:00, 227.89it/s]",
            "_view_count": null,
            "_view_module_version": "1.5.0",
            "description_tooltip": null,
            "_model_module": "@jupyter-widgets/controls",
            "layout": "IPY_MODEL_eba57faf1c864ed382f48dfe7ba22a30"
          }
        },
        "fdb72bb636094ce6803ccd5e101eb1d1": {
          "model_module": "@jupyter-widgets/controls",
          "model_name": "ProgressStyleModel",
          "state": {
            "_view_name": "StyleView",
            "_model_name": "ProgressStyleModel",
            "description_width": "initial",
            "_view_module": "@jupyter-widgets/base",
            "_model_module_version": "1.5.0",
            "_view_count": null,
            "_view_module_version": "1.2.0",
            "bar_color": null,
            "_model_module": "@jupyter-widgets/controls"
          }
        },
        "46f226608b994073a90ad1ecb76d021b": {
          "model_module": "@jupyter-widgets/base",
          "model_name": "LayoutModel",
          "state": {
            "_view_name": "LayoutView",
            "grid_template_rows": null,
            "right": null,
            "justify_content": null,
            "_view_module": "@jupyter-widgets/base",
            "overflow": null,
            "_model_module_version": "1.2.0",
            "_view_count": null,
            "flex_flow": null,
            "width": null,
            "min_width": null,
            "border": null,
            "align_items": null,
            "bottom": null,
            "_model_module": "@jupyter-widgets/base",
            "top": null,
            "grid_column": null,
            "overflow_y": null,
            "overflow_x": null,
            "grid_auto_flow": null,
            "grid_area": null,
            "grid_template_columns": null,
            "flex": null,
            "_model_name": "LayoutModel",
            "justify_items": null,
            "grid_row": null,
            "max_height": null,
            "align_content": null,
            "visibility": null,
            "align_self": null,
            "height": null,
            "min_height": null,
            "padding": null,
            "grid_auto_rows": null,
            "grid_gap": null,
            "max_width": null,
            "order": null,
            "_view_module_version": "1.2.0",
            "grid_template_areas": null,
            "object_position": null,
            "object_fit": null,
            "grid_auto_columns": null,
            "margin": null,
            "display": null,
            "left": null
          }
        },
        "c0d20ab96a8c4d3ba1dd66ff83f14bf2": {
          "model_module": "@jupyter-widgets/controls",
          "model_name": "DescriptionStyleModel",
          "state": {
            "_view_name": "StyleView",
            "_model_name": "DescriptionStyleModel",
            "description_width": "",
            "_view_module": "@jupyter-widgets/base",
            "_model_module_version": "1.5.0",
            "_view_count": null,
            "_view_module_version": "1.2.0",
            "_model_module": "@jupyter-widgets/controls"
          }
        },
        "eba57faf1c864ed382f48dfe7ba22a30": {
          "model_module": "@jupyter-widgets/base",
          "model_name": "LayoutModel",
          "state": {
            "_view_name": "LayoutView",
            "grid_template_rows": null,
            "right": null,
            "justify_content": null,
            "_view_module": "@jupyter-widgets/base",
            "overflow": null,
            "_model_module_version": "1.2.0",
            "_view_count": null,
            "flex_flow": null,
            "width": null,
            "min_width": null,
            "border": null,
            "align_items": null,
            "bottom": null,
            "_model_module": "@jupyter-widgets/base",
            "top": null,
            "grid_column": null,
            "overflow_y": null,
            "overflow_x": null,
            "grid_auto_flow": null,
            "grid_area": null,
            "grid_template_columns": null,
            "flex": null,
            "_model_name": "LayoutModel",
            "justify_items": null,
            "grid_row": null,
            "max_height": null,
            "align_content": null,
            "visibility": null,
            "align_self": null,
            "height": null,
            "min_height": null,
            "padding": null,
            "grid_auto_rows": null,
            "grid_gap": null,
            "max_width": null,
            "order": null,
            "_view_module_version": "1.2.0",
            "grid_template_areas": null,
            "object_position": null,
            "object_fit": null,
            "grid_auto_columns": null,
            "margin": null,
            "display": null,
            "left": null
          }
        },
        "d139ec9bac274a8386608bb92282a121": {
          "model_module": "@jupyter-widgets/controls",
          "model_name": "HBoxModel",
          "state": {
            "_view_name": "HBoxView",
            "_dom_classes": [],
            "_model_name": "HBoxModel",
            "_view_module": "@jupyter-widgets/controls",
            "_model_module_version": "1.5.0",
            "_view_count": null,
            "_view_module_version": "1.5.0",
            "box_style": "",
            "layout": "IPY_MODEL_99aaf65957a947c591bcb99709b56e32",
            "_model_module": "@jupyter-widgets/controls",
            "children": [
              "IPY_MODEL_72af01c263b5442ab3348d6f4850b553",
              "IPY_MODEL_2e0a35374992462da9cb9bb27ed24d4d"
            ]
          }
        },
        "99aaf65957a947c591bcb99709b56e32": {
          "model_module": "@jupyter-widgets/base",
          "model_name": "LayoutModel",
          "state": {
            "_view_name": "LayoutView",
            "grid_template_rows": null,
            "right": null,
            "justify_content": null,
            "_view_module": "@jupyter-widgets/base",
            "overflow": null,
            "_model_module_version": "1.2.0",
            "_view_count": null,
            "flex_flow": null,
            "width": null,
            "min_width": null,
            "border": null,
            "align_items": null,
            "bottom": null,
            "_model_module": "@jupyter-widgets/base",
            "top": null,
            "grid_column": null,
            "overflow_y": null,
            "overflow_x": null,
            "grid_auto_flow": null,
            "grid_area": null,
            "grid_template_columns": null,
            "flex": null,
            "_model_name": "LayoutModel",
            "justify_items": null,
            "grid_row": null,
            "max_height": null,
            "align_content": null,
            "visibility": null,
            "align_self": null,
            "height": null,
            "min_height": null,
            "padding": null,
            "grid_auto_rows": null,
            "grid_gap": null,
            "max_width": null,
            "order": null,
            "_view_module_version": "1.2.0",
            "grid_template_areas": null,
            "object_position": null,
            "object_fit": null,
            "grid_auto_columns": null,
            "margin": null,
            "display": null,
            "left": null
          }
        },
        "72af01c263b5442ab3348d6f4850b553": {
          "model_module": "@jupyter-widgets/controls",
          "model_name": "FloatProgressModel",
          "state": {
            "_view_name": "ProgressView",
            "style": "IPY_MODEL_82be2400869041d998cb19341777bac4",
            "_dom_classes": [],
            "description": "100%",
            "_model_name": "FloatProgressModel",
            "bar_style": "success",
            "max": 6000,
            "_view_module": "@jupyter-widgets/controls",
            "_model_module_version": "1.5.0",
            "value": 6000,
            "_view_count": null,
            "_view_module_version": "1.5.0",
            "orientation": "horizontal",
            "min": 0,
            "description_tooltip": null,
            "_model_module": "@jupyter-widgets/controls",
            "layout": "IPY_MODEL_dba42f2c0abc4733bc409d2fd690f900"
          }
        },
        "2e0a35374992462da9cb9bb27ed24d4d": {
          "model_module": "@jupyter-widgets/controls",
          "model_name": "HTMLModel",
          "state": {
            "_view_name": "HTMLView",
            "style": "IPY_MODEL_c4b6d4a072144929b3826b45b4370238",
            "_dom_classes": [],
            "description": "",
            "_model_name": "HTMLModel",
            "placeholder": "​",
            "_view_module": "@jupyter-widgets/controls",
            "_model_module_version": "1.5.0",
            "value": " 6000/6000 [00:45&lt;00:00, 131.41it/s]",
            "_view_count": null,
            "_view_module_version": "1.5.0",
            "description_tooltip": null,
            "_model_module": "@jupyter-widgets/controls",
            "layout": "IPY_MODEL_dd8d719b27d94a75a1023f8f3c4475da"
          }
        },
        "82be2400869041d998cb19341777bac4": {
          "model_module": "@jupyter-widgets/controls",
          "model_name": "ProgressStyleModel",
          "state": {
            "_view_name": "StyleView",
            "_model_name": "ProgressStyleModel",
            "description_width": "initial",
            "_view_module": "@jupyter-widgets/base",
            "_model_module_version": "1.5.0",
            "_view_count": null,
            "_view_module_version": "1.2.0",
            "bar_color": null,
            "_model_module": "@jupyter-widgets/controls"
          }
        },
        "dba42f2c0abc4733bc409d2fd690f900": {
          "model_module": "@jupyter-widgets/base",
          "model_name": "LayoutModel",
          "state": {
            "_view_name": "LayoutView",
            "grid_template_rows": null,
            "right": null,
            "justify_content": null,
            "_view_module": "@jupyter-widgets/base",
            "overflow": null,
            "_model_module_version": "1.2.0",
            "_view_count": null,
            "flex_flow": null,
            "width": null,
            "min_width": null,
            "border": null,
            "align_items": null,
            "bottom": null,
            "_model_module": "@jupyter-widgets/base",
            "top": null,
            "grid_column": null,
            "overflow_y": null,
            "overflow_x": null,
            "grid_auto_flow": null,
            "grid_area": null,
            "grid_template_columns": null,
            "flex": null,
            "_model_name": "LayoutModel",
            "justify_items": null,
            "grid_row": null,
            "max_height": null,
            "align_content": null,
            "visibility": null,
            "align_self": null,
            "height": null,
            "min_height": null,
            "padding": null,
            "grid_auto_rows": null,
            "grid_gap": null,
            "max_width": null,
            "order": null,
            "_view_module_version": "1.2.0",
            "grid_template_areas": null,
            "object_position": null,
            "object_fit": null,
            "grid_auto_columns": null,
            "margin": null,
            "display": null,
            "left": null
          }
        },
        "c4b6d4a072144929b3826b45b4370238": {
          "model_module": "@jupyter-widgets/controls",
          "model_name": "DescriptionStyleModel",
          "state": {
            "_view_name": "StyleView",
            "_model_name": "DescriptionStyleModel",
            "description_width": "",
            "_view_module": "@jupyter-widgets/base",
            "_model_module_version": "1.5.0",
            "_view_count": null,
            "_view_module_version": "1.2.0",
            "_model_module": "@jupyter-widgets/controls"
          }
        },
        "dd8d719b27d94a75a1023f8f3c4475da": {
          "model_module": "@jupyter-widgets/base",
          "model_name": "LayoutModel",
          "state": {
            "_view_name": "LayoutView",
            "grid_template_rows": null,
            "right": null,
            "justify_content": null,
            "_view_module": "@jupyter-widgets/base",
            "overflow": null,
            "_model_module_version": "1.2.0",
            "_view_count": null,
            "flex_flow": null,
            "width": null,
            "min_width": null,
            "border": null,
            "align_items": null,
            "bottom": null,
            "_model_module": "@jupyter-widgets/base",
            "top": null,
            "grid_column": null,
            "overflow_y": null,
            "overflow_x": null,
            "grid_auto_flow": null,
            "grid_area": null,
            "grid_template_columns": null,
            "flex": null,
            "_model_name": "LayoutModel",
            "justify_items": null,
            "grid_row": null,
            "max_height": null,
            "align_content": null,
            "visibility": null,
            "align_self": null,
            "height": null,
            "min_height": null,
            "padding": null,
            "grid_auto_rows": null,
            "grid_gap": null,
            "max_width": null,
            "order": null,
            "_view_module_version": "1.2.0",
            "grid_template_areas": null,
            "object_position": null,
            "object_fit": null,
            "grid_auto_columns": null,
            "margin": null,
            "display": null,
            "left": null
          }
        },
        "edb19928af2a4dc9ae4b33417d056e4b": {
          "model_module": "@jupyter-widgets/controls",
          "model_name": "HBoxModel",
          "state": {
            "_view_name": "HBoxView",
            "_dom_classes": [],
            "_model_name": "HBoxModel",
            "_view_module": "@jupyter-widgets/controls",
            "_model_module_version": "1.5.0",
            "_view_count": null,
            "_view_module_version": "1.5.0",
            "box_style": "",
            "layout": "IPY_MODEL_0e2a77facc5b439b9e08989ac5612425",
            "_model_module": "@jupyter-widgets/controls",
            "children": [
              "IPY_MODEL_5cee77aaec4f488b8a9a552b5a55e7d5",
              "IPY_MODEL_eeda9db8b4144a98a9e24dbaaf9b31f3"
            ]
          }
        },
        "0e2a77facc5b439b9e08989ac5612425": {
          "model_module": "@jupyter-widgets/base",
          "model_name": "LayoutModel",
          "state": {
            "_view_name": "LayoutView",
            "grid_template_rows": null,
            "right": null,
            "justify_content": null,
            "_view_module": "@jupyter-widgets/base",
            "overflow": null,
            "_model_module_version": "1.2.0",
            "_view_count": null,
            "flex_flow": null,
            "width": null,
            "min_width": null,
            "border": null,
            "align_items": null,
            "bottom": null,
            "_model_module": "@jupyter-widgets/base",
            "top": null,
            "grid_column": null,
            "overflow_y": null,
            "overflow_x": null,
            "grid_auto_flow": null,
            "grid_area": null,
            "grid_template_columns": null,
            "flex": null,
            "_model_name": "LayoutModel",
            "justify_items": null,
            "grid_row": null,
            "max_height": null,
            "align_content": null,
            "visibility": null,
            "align_self": null,
            "height": null,
            "min_height": null,
            "padding": null,
            "grid_auto_rows": null,
            "grid_gap": null,
            "max_width": null,
            "order": null,
            "_view_module_version": "1.2.0",
            "grid_template_areas": null,
            "object_position": null,
            "object_fit": null,
            "grid_auto_columns": null,
            "margin": null,
            "display": null,
            "left": null
          }
        },
        "5cee77aaec4f488b8a9a552b5a55e7d5": {
          "model_module": "@jupyter-widgets/controls",
          "model_name": "FloatProgressModel",
          "state": {
            "_view_name": "ProgressView",
            "style": "IPY_MODEL_f020ae1711344b18bfbea97658ba8fab",
            "_dom_classes": [],
            "description": "100%",
            "_model_name": "FloatProgressModel",
            "bar_style": "success",
            "max": 1000,
            "_view_module": "@jupyter-widgets/controls",
            "_model_module_version": "1.5.0",
            "value": 1000,
            "_view_count": null,
            "_view_module_version": "1.5.0",
            "orientation": "horizontal",
            "min": 0,
            "description_tooltip": null,
            "_model_module": "@jupyter-widgets/controls",
            "layout": "IPY_MODEL_6581f8cfd26f481789fff5aba6625ce0"
          }
        },
        "eeda9db8b4144a98a9e24dbaaf9b31f3": {
          "model_module": "@jupyter-widgets/controls",
          "model_name": "HTMLModel",
          "state": {
            "_view_name": "HTMLView",
            "style": "IPY_MODEL_b62503089c4a410ca8aa46cd5633a372",
            "_dom_classes": [],
            "description": "",
            "_model_name": "HTMLModel",
            "placeholder": "​",
            "_view_module": "@jupyter-widgets/controls",
            "_model_module_version": "1.5.0",
            "value": " 1000/1000 [00:04&lt;00:00, 224.32it/s]",
            "_view_count": null,
            "_view_module_version": "1.5.0",
            "description_tooltip": null,
            "_model_module": "@jupyter-widgets/controls",
            "layout": "IPY_MODEL_3b23fafabd84423dad25ebe645c8a005"
          }
        },
        "f020ae1711344b18bfbea97658ba8fab": {
          "model_module": "@jupyter-widgets/controls",
          "model_name": "ProgressStyleModel",
          "state": {
            "_view_name": "StyleView",
            "_model_name": "ProgressStyleModel",
            "description_width": "initial",
            "_view_module": "@jupyter-widgets/base",
            "_model_module_version": "1.5.0",
            "_view_count": null,
            "_view_module_version": "1.2.0",
            "bar_color": null,
            "_model_module": "@jupyter-widgets/controls"
          }
        },
        "6581f8cfd26f481789fff5aba6625ce0": {
          "model_module": "@jupyter-widgets/base",
          "model_name": "LayoutModel",
          "state": {
            "_view_name": "LayoutView",
            "grid_template_rows": null,
            "right": null,
            "justify_content": null,
            "_view_module": "@jupyter-widgets/base",
            "overflow": null,
            "_model_module_version": "1.2.0",
            "_view_count": null,
            "flex_flow": null,
            "width": null,
            "min_width": null,
            "border": null,
            "align_items": null,
            "bottom": null,
            "_model_module": "@jupyter-widgets/base",
            "top": null,
            "grid_column": null,
            "overflow_y": null,
            "overflow_x": null,
            "grid_auto_flow": null,
            "grid_area": null,
            "grid_template_columns": null,
            "flex": null,
            "_model_name": "LayoutModel",
            "justify_items": null,
            "grid_row": null,
            "max_height": null,
            "align_content": null,
            "visibility": null,
            "align_self": null,
            "height": null,
            "min_height": null,
            "padding": null,
            "grid_auto_rows": null,
            "grid_gap": null,
            "max_width": null,
            "order": null,
            "_view_module_version": "1.2.0",
            "grid_template_areas": null,
            "object_position": null,
            "object_fit": null,
            "grid_auto_columns": null,
            "margin": null,
            "display": null,
            "left": null
          }
        },
        "b62503089c4a410ca8aa46cd5633a372": {
          "model_module": "@jupyter-widgets/controls",
          "model_name": "DescriptionStyleModel",
          "state": {
            "_view_name": "StyleView",
            "_model_name": "DescriptionStyleModel",
            "description_width": "",
            "_view_module": "@jupyter-widgets/base",
            "_model_module_version": "1.5.0",
            "_view_count": null,
            "_view_module_version": "1.2.0",
            "_model_module": "@jupyter-widgets/controls"
          }
        },
        "3b23fafabd84423dad25ebe645c8a005": {
          "model_module": "@jupyter-widgets/base",
          "model_name": "LayoutModel",
          "state": {
            "_view_name": "LayoutView",
            "grid_template_rows": null,
            "right": null,
            "justify_content": null,
            "_view_module": "@jupyter-widgets/base",
            "overflow": null,
            "_model_module_version": "1.2.0",
            "_view_count": null,
            "flex_flow": null,
            "width": null,
            "min_width": null,
            "border": null,
            "align_items": null,
            "bottom": null,
            "_model_module": "@jupyter-widgets/base",
            "top": null,
            "grid_column": null,
            "overflow_y": null,
            "overflow_x": null,
            "grid_auto_flow": null,
            "grid_area": null,
            "grid_template_columns": null,
            "flex": null,
            "_model_name": "LayoutModel",
            "justify_items": null,
            "grid_row": null,
            "max_height": null,
            "align_content": null,
            "visibility": null,
            "align_self": null,
            "height": null,
            "min_height": null,
            "padding": null,
            "grid_auto_rows": null,
            "grid_gap": null,
            "max_width": null,
            "order": null,
            "_view_module_version": "1.2.0",
            "grid_template_areas": null,
            "object_position": null,
            "object_fit": null,
            "grid_auto_columns": null,
            "margin": null,
            "display": null,
            "left": null
          }
        },
        "39d03f2bf21949978a745f3bea216640": {
          "model_module": "@jupyter-widgets/controls",
          "model_name": "VBoxModel",
          "state": {
            "_view_name": "VBoxView",
            "_dom_classes": [],
            "_model_name": "VBoxModel",
            "_view_module": "@jupyter-widgets/controls",
            "_model_module_version": "1.5.0",
            "_view_count": null,
            "_view_module_version": "1.5.0",
            "box_style": "",
            "layout": "IPY_MODEL_00946a540a8c4631a327854430e1635b",
            "_model_module": "@jupyter-widgets/controls",
            "children": [
              "IPY_MODEL_366c6d5fdf23417e965a2f668784171e",
              "IPY_MODEL_afe27b5c91ba48b78f9f1c37b839dded"
            ]
          }
        },
        "00946a540a8c4631a327854430e1635b": {
          "model_module": "@jupyter-widgets/base",
          "model_name": "LayoutModel",
          "state": {
            "_view_name": "LayoutView",
            "grid_template_rows": null,
            "right": null,
            "justify_content": null,
            "_view_module": "@jupyter-widgets/base",
            "overflow": null,
            "_model_module_version": "1.2.0",
            "_view_count": null,
            "flex_flow": null,
            "width": null,
            "min_width": null,
            "border": null,
            "align_items": null,
            "bottom": null,
            "_model_module": "@jupyter-widgets/base",
            "top": null,
            "grid_column": null,
            "overflow_y": null,
            "overflow_x": null,
            "grid_auto_flow": null,
            "grid_area": null,
            "grid_template_columns": null,
            "flex": null,
            "_model_name": "LayoutModel",
            "justify_items": null,
            "grid_row": null,
            "max_height": null,
            "align_content": null,
            "visibility": null,
            "align_self": null,
            "height": null,
            "min_height": null,
            "padding": null,
            "grid_auto_rows": null,
            "grid_gap": null,
            "max_width": null,
            "order": null,
            "_view_module_version": "1.2.0",
            "grid_template_areas": null,
            "object_position": null,
            "object_fit": null,
            "grid_auto_columns": null,
            "margin": null,
            "display": null,
            "left": null
          }
        },
        "366c6d5fdf23417e965a2f668784171e": {
          "model_module": "@jupyter-widgets/controls",
          "model_name": "LabelModel",
          "state": {
            "_view_name": "LabelView",
            "style": "IPY_MODEL_68c37bdea74849c38487a8fc1e94c1e3",
            "_dom_classes": [],
            "description": "",
            "_model_name": "LabelModel",
            "placeholder": "​",
            "_view_module": "@jupyter-widgets/controls",
            "_model_module_version": "1.5.0",
            "value": " 0.01MB of 0.01MB uploaded (0.00MB deduped)\r",
            "_view_count": null,
            "_view_module_version": "1.5.0",
            "description_tooltip": null,
            "_model_module": "@jupyter-widgets/controls",
            "layout": "IPY_MODEL_0dce453951474e3c8635f45cb7d4aff6"
          }
        },
        "afe27b5c91ba48b78f9f1c37b839dded": {
          "model_module": "@jupyter-widgets/controls",
          "model_name": "FloatProgressModel",
          "state": {
            "_view_name": "ProgressView",
            "style": "IPY_MODEL_1997ff6eb7754119b67f42d7b093c3f1",
            "_dom_classes": [],
            "description": "",
            "_model_name": "FloatProgressModel",
            "bar_style": "",
            "max": 1,
            "_view_module": "@jupyter-widgets/controls",
            "_model_module_version": "1.5.0",
            "value": 1,
            "_view_count": null,
            "_view_module_version": "1.5.0",
            "orientation": "horizontal",
            "min": 0,
            "description_tooltip": null,
            "_model_module": "@jupyter-widgets/controls",
            "layout": "IPY_MODEL_f44350e437e2464193f125360624edde"
          }
        },
        "68c37bdea74849c38487a8fc1e94c1e3": {
          "model_module": "@jupyter-widgets/controls",
          "model_name": "DescriptionStyleModel",
          "state": {
            "_view_name": "StyleView",
            "_model_name": "DescriptionStyleModel",
            "description_width": "",
            "_view_module": "@jupyter-widgets/base",
            "_model_module_version": "1.5.0",
            "_view_count": null,
            "_view_module_version": "1.2.0",
            "_model_module": "@jupyter-widgets/controls"
          }
        },
        "0dce453951474e3c8635f45cb7d4aff6": {
          "model_module": "@jupyter-widgets/base",
          "model_name": "LayoutModel",
          "state": {
            "_view_name": "LayoutView",
            "grid_template_rows": null,
            "right": null,
            "justify_content": null,
            "_view_module": "@jupyter-widgets/base",
            "overflow": null,
            "_model_module_version": "1.2.0",
            "_view_count": null,
            "flex_flow": null,
            "width": null,
            "min_width": null,
            "border": null,
            "align_items": null,
            "bottom": null,
            "_model_module": "@jupyter-widgets/base",
            "top": null,
            "grid_column": null,
            "overflow_y": null,
            "overflow_x": null,
            "grid_auto_flow": null,
            "grid_area": null,
            "grid_template_columns": null,
            "flex": null,
            "_model_name": "LayoutModel",
            "justify_items": null,
            "grid_row": null,
            "max_height": null,
            "align_content": null,
            "visibility": null,
            "align_self": null,
            "height": null,
            "min_height": null,
            "padding": null,
            "grid_auto_rows": null,
            "grid_gap": null,
            "max_width": null,
            "order": null,
            "_view_module_version": "1.2.0",
            "grid_template_areas": null,
            "object_position": null,
            "object_fit": null,
            "grid_auto_columns": null,
            "margin": null,
            "display": null,
            "left": null
          }
        },
        "1997ff6eb7754119b67f42d7b093c3f1": {
          "model_module": "@jupyter-widgets/controls",
          "model_name": "ProgressStyleModel",
          "state": {
            "_view_name": "StyleView",
            "_model_name": "ProgressStyleModel",
            "description_width": "",
            "_view_module": "@jupyter-widgets/base",
            "_model_module_version": "1.5.0",
            "_view_count": null,
            "_view_module_version": "1.2.0",
            "bar_color": null,
            "_model_module": "@jupyter-widgets/controls"
          }
        },
        "f44350e437e2464193f125360624edde": {
          "model_module": "@jupyter-widgets/base",
          "model_name": "LayoutModel",
          "state": {
            "_view_name": "LayoutView",
            "grid_template_rows": null,
            "right": null,
            "justify_content": null,
            "_view_module": "@jupyter-widgets/base",
            "overflow": null,
            "_model_module_version": "1.2.0",
            "_view_count": null,
            "flex_flow": null,
            "width": null,
            "min_width": null,
            "border": null,
            "align_items": null,
            "bottom": null,
            "_model_module": "@jupyter-widgets/base",
            "top": null,
            "grid_column": null,
            "overflow_y": null,
            "overflow_x": null,
            "grid_auto_flow": null,
            "grid_area": null,
            "grid_template_columns": null,
            "flex": null,
            "_model_name": "LayoutModel",
            "justify_items": null,
            "grid_row": null,
            "max_height": null,
            "align_content": null,
            "visibility": null,
            "align_self": null,
            "height": null,
            "min_height": null,
            "padding": null,
            "grid_auto_rows": null,
            "grid_gap": null,
            "max_width": null,
            "order": null,
            "_view_module_version": "1.2.0",
            "grid_template_areas": null,
            "object_position": null,
            "object_fit": null,
            "grid_auto_columns": null,
            "margin": null,
            "display": null,
            "left": null
          }
        }
      }
    }
  },
  "cells": [
    {
      "cell_type": "markdown",
      "metadata": {
        "id": "view-in-github",
        "colab_type": "text"
      },
      "source": [
        "<a href=\"https://colab.research.google.com/github/ahmad-saaid/Harvard_BAI/blob/main/assignment_1.ipynb\" target=\"_parent\"><img src=\"https://colab.research.google.com/assets/colab-badge.svg\" alt=\"Open In Colab\"/></a>"
      ]
    },
    {
      "cell_type": "markdown",
      "metadata": {
        "id": "-H5_Bgk8f7Q7"
      },
      "source": [
        "<html>\n",
        "<body>\n",
        "    <center> \n",
        "        <h1><u>Assignment 1</u></h1>\n",
        "        <h3> Quick intro + checking code works on your system </h3>\n",
        "    </center>\n",
        "</body>\n",
        "</html>"
      ]
    },
    {
      "cell_type": "markdown",
      "metadata": {
        "id": "IeFgwm0kf7RA"
      },
      "source": [
        "### Learning Outcomes: The goal of this assignment is two-fold:\n",
        "\n",
        "- This code-base is designed to be easily extended for different research projects. Running this notebook to the end will ensure that the code runs on your system, and that you are set-up to start playing with machine learning code.\n",
        "- This notebook has one complete application: training a CNN classifier to predict the digit in MNIST Images. The code is written to familiarize you to a typical machine learning pipeline, and to the building blocks of code used to do ML. So, read on! "
      ]
    },
    {
      "cell_type": "markdown",
      "metadata": {
        "id": "S9xOVF7_f7RC"
      },
      "source": [
        "### Please specify your Name, Email ID and forked repository url here:\n",
        "- Name: Ahmad Saaid\n",
        "- Email: saaid@college.harvard.edu\n",
        "- Link to your forked github repository: https://github.com/ahmad-saaid/Harvard_BAI"
      ]
    },
    {
      "cell_type": "code",
      "metadata": {
        "id": "lMKT5GKyf7RC"
      },
      "source": [
        "### General libraries useful for python ###\n",
        "\n",
        "import os\n",
        "import sys\n",
        "from tqdm.notebook import tqdm\n",
        "import json\n",
        "import random\n",
        "import pickle\n",
        "import copy\n",
        "from IPython.display import display\n",
        "import ipywidgets as widgets"
      ],
      "execution_count": 21,
      "outputs": []
    },
    {
      "cell_type": "code",
      "metadata": {
        "colab": {
          "base_uri": "https://localhost:8080/",
          "height": 0
        },
        "id": "yH9bTrPLgSgb",
        "outputId": "c444f490-5b9b-4493-d4a0-b16dddeff328"
      },
      "source": [
        "from google.colab import drive\n",
        "drive.mount('/content/drive')"
      ],
      "execution_count": 22,
      "outputs": [
        {
          "output_type": "stream",
          "text": [
            "Drive already mounted at /content/drive; to attempt to forcibly remount, call drive.mount(\"/content/drive\", force_remount=True).\n"
          ],
          "name": "stdout"
        }
      ]
    },
    {
      "cell_type": "code",
      "metadata": {
        "colab": {
          "base_uri": "https://localhost:8080/",
          "height": 0
        },
        "id": "Zxc7ki6Df7RD",
        "outputId": "c5c9694b-d8dc-4226-832d-1502b8d345d3"
      },
      "source": [
        "### Finding where you clone your repo, so that code upstream paths can be specified programmatically ####\n",
        "## work_dir = os.getcwd()\n",
        "git_dir = '/content/drive/MyDrive/Harvard_BAI'\n",
        "print('Your github directory is :%s'%git_dir)"
      ],
      "execution_count": 23,
      "outputs": [
        {
          "output_type": "stream",
          "text": [
            "Your github directory is :/content/drive/MyDrive/Harvard_BAI\n"
          ],
          "name": "stdout"
        }
      ]
    },
    {
      "cell_type": "code",
      "metadata": {
        "id": "Vzww1zFUf7RD"
      },
      "source": [
        "### Libraries for visualizing our results and data ###\n",
        "from PIL import Image\n",
        "import matplotlib.pyplot as plt"
      ],
      "execution_count": 24,
      "outputs": []
    },
    {
      "cell_type": "code",
      "metadata": {
        "scrolled": false,
        "id": "VPeFBcuwf7RF"
      },
      "source": [
        "### Import PyTorch and its components ###\n",
        "import torch\n",
        "import torchvision\n",
        "import torch.nn as nn\n",
        "import torch.optim as optim"
      ],
      "execution_count": 25,
      "outputs": []
    },
    {
      "cell_type": "markdown",
      "metadata": {
        "id": "hC4YDPVMf7RF"
      },
      "source": [
        "#### Let's load our flexible code-base which you will build on for your research projects in future assignments.\n",
        "\n",
        "Above we have imported modules (libraries for those familiar to programming languages other than python). These modules are of two kinds - (1) inbuilt python modules like `os`, `sys`, `random`, or (2) ones which we installed using conda (ex. `torch`).\n",
        "\n",
        "Below we will be importing our own written code which resides in the `res` folder in your github directory. This is structured to be easily expandable for different machine learning projects. Suppose that you want to do a project on object detection. You can easily add a few files to the sub-folders within `res`, and this script will then be flexibly do detection instead of classication (which is presented here). Expanding on this codebase will be the main subject matter of Assignment 2. For now, let's continue with importing."
      ]
    },
    {
      "cell_type": "code",
      "metadata": {
        "id": "pp6jatq9f7RF"
      },
      "source": [
        "### Making helper code under the folder res available. This includes loaders, models, etc. ###\n",
        "sys.path.append('%s/res/'%git_dir)\n",
        "from models.models import get_model\n",
        "from loader.loader import get_loader"
      ],
      "execution_count": 26,
      "outputs": []
    },
    {
      "cell_type": "markdown",
      "metadata": {
        "id": "DJXt8so5f7RG"
      },
      "source": [
        "#### See those paths printed above?"
      ]
    },
    {
      "cell_type": "markdown",
      "metadata": {
        "id": "8RMsIyqBf7RG"
      },
      "source": [
        "`res/models` holds different model files. So, if you want to load ResNet architecture or a transformers architecture, they will reside there as separate files. \n",
        "\n",
        "Similarly, `res/loader` holds programs which are designed to load different types of data. For example, you may want to load data differently for object classification and detection. For classification each image will have only a numerical label corresponding to its category. For detection, the labels for the same image would contain bounding boxes for different objects and the type of the object in the box. \n",
        "\n",
        "So, to expand further you will be adding files to the folders above."
      ]
    },
    {
      "cell_type": "markdown",
      "metadata": {
        "scrolled": true,
        "id": "8S0W52ocf7RG"
      },
      "source": [
        "### Setting up Weights and Biases for tracking your experiments. ###\n",
        "\n",
        "We have Weights and Biases (wandb.ai) integrated into the code for easy visualization of results and for tracking performance. `Please make an account at wandb.ai, and follow the steps to login to your account!`"
      ]
    },
    {
      "cell_type": "code",
      "metadata": {
        "colab": {
          "base_uri": "https://localhost:8080/",
          "height": 0
        },
        "id": "tYkVDdgUg8FW",
        "outputId": "bc208cc8-843d-4f63-d6e7-1c50b671be8a"
      },
      "source": [
        "pip install wandb"
      ],
      "execution_count": 27,
      "outputs": [
        {
          "output_type": "stream",
          "text": [
            "Requirement already satisfied: wandb in /usr/local/lib/python3.6/dist-packages (0.10.17)\n",
            "Requirement already satisfied: subprocess32>=3.5.3 in /usr/local/lib/python3.6/dist-packages (from wandb) (3.5.4)\n",
            "Requirement already satisfied: PyYAML in /usr/local/lib/python3.6/dist-packages (from wandb) (3.13)\n",
            "Requirement already satisfied: GitPython>=1.0.0 in /usr/local/lib/python3.6/dist-packages (from wandb) (3.1.12)\n",
            "Requirement already satisfied: six>=1.13.0 in /usr/local/lib/python3.6/dist-packages (from wandb) (1.15.0)\n",
            "Requirement already satisfied: Click>=7.0 in /usr/local/lib/python3.6/dist-packages (from wandb) (7.1.2)\n",
            "Requirement already satisfied: psutil>=5.0.0 in /usr/local/lib/python3.6/dist-packages (from wandb) (5.4.8)\n",
            "Requirement already satisfied: python-dateutil>=2.6.1 in /usr/local/lib/python3.6/dist-packages (from wandb) (2.8.1)\n",
            "Requirement already satisfied: shortuuid>=0.5.0 in /usr/local/lib/python3.6/dist-packages (from wandb) (1.0.1)\n",
            "Requirement already satisfied: pathtools in /usr/local/lib/python3.6/dist-packages (from wandb) (0.1.2)\n",
            "Requirement already satisfied: sentry-sdk>=0.4.0 in /usr/local/lib/python3.6/dist-packages (from wandb) (0.19.5)\n",
            "Requirement already satisfied: promise<3,>=2.0 in /usr/local/lib/python3.6/dist-packages (from wandb) (2.3)\n",
            "Requirement already satisfied: requests<3,>=2.0.0 in /usr/local/lib/python3.6/dist-packages (from wandb) (2.23.0)\n",
            "Requirement already satisfied: configparser>=3.8.1 in /usr/local/lib/python3.6/dist-packages (from wandb) (5.0.1)\n",
            "Requirement already satisfied: docker-pycreds>=0.4.0 in /usr/local/lib/python3.6/dist-packages (from wandb) (0.4.0)\n",
            "Requirement already satisfied: protobuf>=3.12.0 in /usr/local/lib/python3.6/dist-packages (from wandb) (3.12.4)\n",
            "Requirement already satisfied: gitdb<5,>=4.0.1 in /usr/local/lib/python3.6/dist-packages (from GitPython>=1.0.0->wandb) (4.0.5)\n",
            "Requirement already satisfied: urllib3>=1.10.0 in /usr/local/lib/python3.6/dist-packages (from sentry-sdk>=0.4.0->wandb) (1.24.3)\n",
            "Requirement already satisfied: certifi in /usr/local/lib/python3.6/dist-packages (from sentry-sdk>=0.4.0->wandb) (2020.12.5)\n",
            "Requirement already satisfied: idna<3,>=2.5 in /usr/local/lib/python3.6/dist-packages (from requests<3,>=2.0.0->wandb) (2.10)\n",
            "Requirement already satisfied: chardet<4,>=3.0.2 in /usr/local/lib/python3.6/dist-packages (from requests<3,>=2.0.0->wandb) (3.0.4)\n",
            "Requirement already satisfied: setuptools in /usr/local/lib/python3.6/dist-packages (from protobuf>=3.12.0->wandb) (53.0.0)\n",
            "Requirement already satisfied: smmap<4,>=3.0.1 in /usr/local/lib/python3.6/dist-packages (from gitdb<5,>=4.0.1->GitPython>=1.0.0->wandb) (3.0.5)\n"
          ],
          "name": "stdout"
        }
      ]
    },
    {
      "cell_type": "code",
      "metadata": {
        "scrolled": true,
        "colab": {
          "base_uri": "https://localhost:8080/",
          "height": 0
        },
        "id": "bDevuM-yf7RG",
        "outputId": "437715f1-dc59-495e-b4ae-05e1b576efa8"
      },
      "source": [
        "import wandb\n",
        "wandb.login()"
      ],
      "execution_count": 28,
      "outputs": [
        {
          "output_type": "execute_result",
          "data": {
            "text/plain": [
              "True"
            ]
          },
          "metadata": {
            "tags": []
          },
          "execution_count": 28
        }
      ]
    },
    {
      "cell_type": "markdown",
      "metadata": {
        "id": "b1hJLlM6f7RH"
      },
      "source": [
        "### Specifying settings/hyperparameters for our code below ###"
      ]
    },
    {
      "cell_type": "code",
      "metadata": {
        "id": "ZTUfzNOTf7RH"
      },
      "source": [
        "wandb_config = {}\n",
        "wandb_config['batch_size'] = 10\n",
        "wandb_config['base_lr'] = 0.01\n",
        "wandb_config['model_arch'] = 'CustomCNN'\n",
        "wandb_config['num_classes'] = 10\n",
        "wandb_config['run_name'] = 'assignment_1'\n",
        "\n",
        "### If you are using a CPU, please set wandb_config['use_gpu'] = 0 below. However, if you are using a GPU, leave it unchanged ####\n",
        "wandb_config['use_gpu'] = 1\n",
        "\n",
        "wandb_config['num_epochs'] = 2\n",
        "wandb_config['git_dir'] = git_dir"
      ],
      "execution_count": 29,
      "outputs": []
    },
    {
      "cell_type": "markdown",
      "metadata": {
        "id": "OYnbqk0jf7RH"
      },
      "source": [
        "By changing above, different experiments can be run. For example, you can specify which model architecture to load, which dataset you will be loading, and so on."
      ]
    },
    {
      "cell_type": "markdown",
      "metadata": {
        "id": "vb9QNh07f7RH"
      },
      "source": [
        "### Data Loading ###"
      ]
    },
    {
      "cell_type": "markdown",
      "metadata": {
        "id": "Qi-E-AY-f7RH"
      },
      "source": [
        "The most common task many of you will be doing in your projects will be running a script on a new dataset. In PyTorch this is done using data loaders, and it is extremely important to understand this works. In next assignment, you will be writing your own dataloader. For now, we only expose you to basic data loading which for the MNIST dataset for which PyTorch provides easy functions."
      ]
    },
    {
      "cell_type": "markdown",
      "metadata": {
        "id": "b422Gv6Uf7RH"
      },
      "source": [
        "### Let's load MNIST. The first time you run it, the dataset gets downloaded.\n"
      ]
    },
    {
      "cell_type": "markdown",
      "metadata": {
        "id": "i4Z0YhQEf7RI"
      },
      "source": [
        "Data Transforms tell PyTorch how to pre-process your data. Recall that images are stored with values between 0-255 usually. One very common pre-processing for images is to normalize to be 0 mean and 1 standard deviation. This pre-processing makes the task easier for neural networks. There are many, many kinds of normalization in deep learning, the most basic one being those imposed on the image data while loading it."
      ]
    },
    {
      "cell_type": "code",
      "metadata": {
        "id": "cBcQ6o3Nf7RI"
      },
      "source": [
        "data_transforms = {}\n",
        "data_transforms['train'] = torchvision.transforms.Compose([\n",
        "                               torchvision.transforms.ToTensor(),\n",
        "                               torchvision.transforms.Normalize(\n",
        "                                 (0.1307,), (0.3081,))])\n",
        "\n",
        "data_transforms['test'] = torchvision.transforms.Compose([\n",
        "                               torchvision.transforms.ToTensor(),\n",
        "                               torchvision.transforms.Normalize(\n",
        "                                 (0.1307,), (0.3081,))])"
      ],
      "execution_count": 30,
      "outputs": []
    },
    {
      "cell_type": "markdown",
      "metadata": {
        "id": "t1ONOlK1f7RI"
      },
      "source": [
        "`torchvision.datasets.MNIST` allows you to load MNIST data. In future, we will be using our own `get_loader` function from above to load custom data. Notice that data_transforms are passed as argument while loading the data below."
      ]
    },
    {
      "cell_type": "code",
      "metadata": {
        "id": "VLMLSZV_f7RJ"
      },
      "source": [
        "mnist_dataset = {}\n",
        "mnist_dataset['train'] = torchvision.datasets.MNIST('%s/datasets'%wandb_config['git_dir'], train = True, download = True, transform = data_transforms['train'])\n",
        "mnist_dataset['test'] = torchvision.datasets.MNIST('%s/datasets'%wandb_config['git_dir'], train = False, download = True, transform = data_transforms['test'])"
      ],
      "execution_count": 31,
      "outputs": []
    },
    {
      "cell_type": "markdown",
      "metadata": {
        "id": "lOAlkY_Hf7RJ"
      },
      "source": [
        "#### Dataset vs Dataloader"
      ]
    },
    {
      "cell_type": "markdown",
      "metadata": {
        "id": "dn7Wgk54f7RJ"
      },
      "source": [
        "Most deep learning datasets are huge. Can be as large as million data points. We want to keep our GPUs free to store intermediate calculations for neural networks, like gradients. We would not be able to load a million samples into the GPU (or even CPU) and do forward or backward passes on the network. \n",
        "\n",
        "So, samples are loaded in batches, and this method of gradient descent is called mini-batch gradient descent. `torch.utils.data.DataLoader` allows you to specify a pytorch dataset, and makes it easy to loop over it in batches. So, we leverage this to create a data loader from our above loaded MNIST dataset. \n",
        "\n",
        "The dataset itself only contains lists of where to find the inputs and outputs i.e. paths. The data loader defines the logic on loading this information into the GPU/CPU and so it can be passed into the neural net."
      ]
    },
    {
      "cell_type": "code",
      "metadata": {
        "id": "ADIAe2JBf7RJ"
      },
      "source": [
        "data_loaders = {}\n",
        "data_loaders['train'] = torch.utils.data.DataLoader(mnist_dataset['train'], batch_size = wandb_config['batch_size'], shuffle = True)\n",
        "data_loaders['test'] = torch.utils.data.DataLoader(mnist_dataset['test'], batch_size = wandb_config['batch_size'], shuffle = False)\n",
        "\n",
        "data_sizes = {}\n",
        "data_sizes['train'] = len(mnist_dataset['train'])\n",
        "data_sizes['test'] = len(mnist_dataset['test'])"
      ],
      "execution_count": 32,
      "outputs": []
    },
    {
      "cell_type": "markdown",
      "metadata": {
        "id": "Di7bd_Rpf7RK"
      },
      "source": [
        "### We will use the `get_model` functionality to load a CNN architecture."
      ]
    },
    {
      "cell_type": "code",
      "metadata": {
        "id": "Pgda_cHhf7RK"
      },
      "source": [
        "model = get_model(wandb_config['model_arch'], wandb_config['num_classes'])"
      ],
      "execution_count": 33,
      "outputs": []
    },
    {
      "cell_type": "markdown",
      "metadata": {
        "id": "XiibeMhHf7RK"
      },
      "source": [
        "### Curious what the model architecture looks like?\n",
        "\n",
        "`get_model` is just a function in the file `res/models/models.py`. Stop here, open this file, and see what the function does."
      ]
    },
    {
      "cell_type": "code",
      "metadata": {
        "colab": {
          "base_uri": "https://localhost:8080/",
          "height": 179,
          "referenced_widgets": [
            "5545cc45ea634ad7b952320b101114d4",
            "7b96f4944c704ab4b36275af0571a750",
            "20126488f11f4feea0a24bac96586dd5",
            "76141295e292491fb040faf329c9b837",
            "a0faf70ae8d44cb1937cbed6ff45262c"
          ]
        },
        "id": "3lk8G1G_f7RK",
        "outputId": "6d812c03-0ff4-4719-823d-73d60c31aaac"
      },
      "source": [
        "layout = widgets.Layout(width='auto', height='90px') #set width and height\n",
        "\n",
        "button = widgets.Button(description=\"Read the function?\\n Click me!\", layout=layout)\n",
        "output = widgets.Output()\n",
        "\n",
        "display(button, output)\n",
        "\n",
        "def on_button_clicked(b):\n",
        "    with output:\n",
        "        print(\"As you can see, the function simply returns an object of the class CustomCNN, which is defined in res/models/CustomCNN.py\")\n",
        "        print(\"This is our neural network model.\")\n",
        "button.on_click(on_button_clicked)"
      ],
      "execution_count": 34,
      "outputs": [
        {
          "output_type": "display_data",
          "data": {
            "application/vnd.jupyter.widget-view+json": {
              "model_id": "5545cc45ea634ad7b952320b101114d4",
              "version_minor": 0,
              "version_major": 2
            },
            "text/plain": [
              "Button(description='Read the function?\\n Click me!', layout=Layout(height='90px', width='auto'), style=ButtonS…"
            ]
          },
          "metadata": {
            "tags": []
          }
        },
        {
          "output_type": "display_data",
          "data": {
            "application/vnd.jupyter.widget-view+json": {
              "model_id": "76141295e292491fb040faf329c9b837",
              "version_minor": 0,
              "version_major": 2
            },
            "text/plain": [
              "Output()"
            ]
          },
          "metadata": {
            "tags": []
          }
        }
      ]
    },
    {
      "cell_type": "markdown",
      "metadata": {
        "id": "fNDPdNwxf7RK"
      },
      "source": [
        "#### Below we have the function which trains, tests and returns the best model weights."
      ]
    },
    {
      "cell_type": "code",
      "metadata": {
        "id": "4icLZa8Xf7RK"
      },
      "source": [
        "def model_pipeline(model, criterion, optimizer, dset_loaders, dset_sizes, hyperparameters):\n",
        "    with wandb.init(project=\"HARVAR_BAI\", config=hyperparameters):\n",
        "        if hyperparameters['run_name']:\n",
        "            wandb.run.name = hyperparameters['run_name']\n",
        "        config = wandb.config\n",
        "        best_model = model\n",
        "        best_acc = 0.0\n",
        "        \n",
        "        print(config)\n",
        "        \n",
        "        print(config.num_epochs)\n",
        "        for epoch_num in range(config.num_epochs):\n",
        "            wandb.log({\"Current Epoch\": epoch_num})\n",
        "            model = train_model(model, criterion, optimizer, dset_loaders, dset_sizes, config)\n",
        "            best_acc, best_model = test_model(model, best_acc, best_model, dset_loaders, dset_sizes, config)\n",
        "    \n",
        "    return best_model"
      ],
      "execution_count": 35,
      "outputs": []
    },
    {
      "cell_type": "markdown",
      "metadata": {
        "id": "-1GpsWpuf7RL"
      },
      "source": [
        "#### The different steps of the train model function are annotated below inside the function. Read them step by step"
      ]
    },
    {
      "cell_type": "code",
      "metadata": {
        "id": "BKyXryVtf7RL"
      },
      "source": [
        "def train_model(model, criterion, optimizer, dset_loaders, dset_sizes, configs):\n",
        "    print('Starting training epoch...')\n",
        "    best_model = model\n",
        "    best_acc = 0.0\n",
        "\n",
        "    \n",
        "    ### This tells python to track gradients. While testing weights aren't updated hence they are not stored.\n",
        "    model.train() \n",
        "    running_loss = 0.0\n",
        "    running_corrects = 0\n",
        "    iters = 0\n",
        "    \n",
        "    \n",
        "    ### We loop over the data loader we created above. Simply using a for loop.\n",
        "    for data in tqdm(dset_loaders['train']):\n",
        "        inputs, labels = data\n",
        "        \n",
        "        ### If you are using a gpu, then script will move the loaded data to the GPU. \n",
        "        ### If you are not using a gpu, ensure that wandb_configs['use_gpu'] is set to False above.\n",
        "        if configs.use_gpu:\n",
        "            inputs = inputs.float().cuda()\n",
        "            labels = labels.long().cuda()\n",
        "        else:\n",
        "            print('WARNING: NOT USING GPU!')\n",
        "            inputs = inputs.float()\n",
        "            labels = labels.long()\n",
        "\n",
        "        \n",
        "        ### We set the gradients to zero, then calculate the outputs, and the loss function. \n",
        "        ### Gradients for this process are automatically calculated by PyTorch.\n",
        "        \n",
        "        optimizer.zero_grad()\n",
        "        outputs = model(inputs)\n",
        "        _, preds = torch.max(outputs.data, 1)\n",
        "\n",
        "        loss = criterion(outputs, labels)\n",
        "        \n",
        "        \n",
        "        ### At this point, the program has calculated gradient of loss w.r.t. weights of our NN model.\n",
        "        loss.backward()\n",
        "        optimizer.step()\n",
        "        \n",
        "        ### optimizer.step() updated the models weights using calculated gradients.\n",
        "        \n",
        "        ### Let's store these and log them using wandb. They will be displayed in a nice online\n",
        "        ### dashboard for you to see.\n",
        "        \n",
        "        iters += 1\n",
        "        running_loss += loss.item()\n",
        "        running_corrects += torch.sum(preds == labels.data)\n",
        "        wandb.log({\"train_running_loss\": running_loss/float(iters*len(labels.data))})\n",
        "        wandb.log({\"train_running_corrects\": running_corrects/float(iters*len(labels.data))})\n",
        "\n",
        "    epoch_loss = float(running_loss) / dset_sizes['train']\n",
        "    epoch_acc = float(running_corrects) / float(dset_sizes['train'])\n",
        "    wandb.log({\"train_accuracy\": epoch_acc})\n",
        "    wandb.log({\"train_loss\": epoch_loss})\n",
        "    return model\n",
        "\n"
      ],
      "execution_count": 36,
      "outputs": []
    },
    {
      "cell_type": "code",
      "metadata": {
        "id": "kKfTKXndf7RM"
      },
      "source": [
        "def test_model(model, best_acc, best_model, dset_loaders, dset_sizes, configs):\n",
        "    print('Starting testing epoch...')\n",
        "    model.eval() ### tells pytorch to not store gradients as we won't be updating weights while testing.\n",
        "\n",
        "    running_corrects = 0\n",
        "    iters = 0   \n",
        "    for data in tqdm(dset_loaders['test']):\n",
        "        inputs, labels = data\n",
        "        if configs.use_gpu:\n",
        "            inputs = inputs.float().cuda()\n",
        "            labels = labels.long().cuda()\n",
        "        else:\n",
        "            print('WARNING: NOT USING GPU!')\n",
        "            inputs = inputs.float()\n",
        "            labels = labels.long()\n",
        "\n",
        "        \n",
        "        outputs = model(inputs)\n",
        "        _, preds = torch.max(outputs.data, 1)\n",
        "        \n",
        "        iters += 1\n",
        "        running_corrects += torch.sum(preds == labels.data)\n",
        "        wandb.log({\"train_running_corrects\": running_corrects/float(iters*len(labels.data))})\n",
        "\n",
        "\n",
        "    epoch_acc = float(running_corrects) / float(dset_sizes['test'])\n",
        "\n",
        "    wandb.log({\"test_accuracy\": epoch_acc})\n",
        "    \n",
        "    ### Code is very similar to train set. One major difference, we don't update weights. \n",
        "    ### We only check the performance is best so far, if so, we save this model as the best model so far.\n",
        "    \n",
        "    if epoch_acc > best_acc:\n",
        "        best_acc = epoch_acc\n",
        "        best_model = copy.deepcopy(model)\n",
        "    wandb.log({\"best_accuracy\": best_acc})\n",
        "    \n",
        "    return best_acc, best_model\n",
        "    "
      ],
      "execution_count": 37,
      "outputs": []
    },
    {
      "cell_type": "code",
      "metadata": {
        "id": "TsEDyDgUf7RM"
      },
      "source": [
        "### Criterion is simply specifying what loss to use. Here we choose cross entropy loss. \n",
        "criterion = nn.CrossEntropyLoss()\n",
        "\n",
        "### tells what optimizer to use. There are many options, we here choose Adam.\n",
        "### the main difference between optimizers is that they vary in how weights are updated based on calculated gradients.\n",
        "optimizer_ft = optim.Adam(model.parameters(), lr = wandb_config['base_lr'])\n",
        "\n",
        "if wandb_config['use_gpu']:\n",
        "    criterion.cuda()\n",
        "    model.cuda()"
      ],
      "execution_count": 38,
      "outputs": []
    },
    {
      "cell_type": "code",
      "metadata": {
        "id": "Le4Aukauf7RN"
      },
      "source": [
        "### Creating the folder where our models will be saved.\n",
        "if not os.path.isdir(\"%s/saved_models/\"%wandb_config['git_dir']):\n",
        "    os.mkdir(\"%s/saved_models/\"%wandb_config['git_dir'])"
      ],
      "execution_count": 39,
      "outputs": []
    },
    {
      "cell_type": "code",
      "metadata": {
        "colab": {
          "base_uri": "https://localhost:8080/",
          "height": 1129,
          "referenced_widgets": [
            "11236bac7b1549adb450ce4050e7a655",
            "94a5b758c7e543029111f6433637a5c5",
            "79d2ddb5b7a64162903b17a702b71b3a",
            "ef62c603fa7248449b36ef8844c678f8",
            "f9a89b19e2774137b11ba0d3f4c28156",
            "7e5f5681d42a4c338d2c02af2211109d",
            "347594a058074d8b872de3bd3ec1fc4d",
            "4d9dc607edf944e180765a443cae73d1",
            "883a9c0e354d43ab8d98f1e430aa47b8",
            "6c52bbbf9f1c440fb8608be23f92b9df",
            "cc830540d5fb456fa32ab24a8eff8004",
            "a97166b23d6c4d86989ad22f5254df62",
            "fdb72bb636094ce6803ccd5e101eb1d1",
            "46f226608b994073a90ad1ecb76d021b",
            "c0d20ab96a8c4d3ba1dd66ff83f14bf2",
            "eba57faf1c864ed382f48dfe7ba22a30",
            "d139ec9bac274a8386608bb92282a121",
            "99aaf65957a947c591bcb99709b56e32",
            "72af01c263b5442ab3348d6f4850b553",
            "2e0a35374992462da9cb9bb27ed24d4d",
            "82be2400869041d998cb19341777bac4",
            "dba42f2c0abc4733bc409d2fd690f900",
            "c4b6d4a072144929b3826b45b4370238",
            "dd8d719b27d94a75a1023f8f3c4475da",
            "edb19928af2a4dc9ae4b33417d056e4b",
            "0e2a77facc5b439b9e08989ac5612425",
            "5cee77aaec4f488b8a9a552b5a55e7d5",
            "eeda9db8b4144a98a9e24dbaaf9b31f3",
            "f020ae1711344b18bfbea97658ba8fab",
            "6581f8cfd26f481789fff5aba6625ce0",
            "b62503089c4a410ca8aa46cd5633a372",
            "3b23fafabd84423dad25ebe645c8a005",
            "39d03f2bf21949978a745f3bea216640",
            "00946a540a8c4631a327854430e1635b",
            "366c6d5fdf23417e965a2f668784171e",
            "afe27b5c91ba48b78f9f1c37b839dded",
            "68c37bdea74849c38487a8fc1e94c1e3",
            "0dce453951474e3c8635f45cb7d4aff6",
            "1997ff6eb7754119b67f42d7b093c3f1",
            "f44350e437e2464193f125360624edde"
          ]
        },
        "id": "YDVZmYkjf7RN",
        "outputId": "93571e75-0bcd-4786-a3e2-055ea8707c07"
      },
      "source": [
        "### Let's run it all, and save the final best model.\n",
        "\n",
        "\n",
        "best_final_model = model_pipeline(model, criterion, optimizer_ft, data_loaders, data_sizes, wandb_config)\n",
        "\n",
        "\n",
        "save_path = '%s/saved_models/%s_final.pt'%(wandb_config['git_dir'], wandb_config['run_name'])\n",
        "with open(save_path,'wb') as F:\n",
        "    torch.save(best_final_model,F)"
      ],
      "execution_count": 40,
      "outputs": [
        {
          "output_type": "display_data",
          "data": {
            "text/html": [
              "\n",
              "                Tracking run with wandb version 0.10.17<br/>\n",
              "                Syncing run <strong style=\"color:#cdcd00\">easy-jazz-2</strong> to <a href=\"https://wandb.ai\" target=\"_blank\">Weights & Biases</a> <a href=\"https://docs.wandb.com/integrations/jupyter.html\" target=\"_blank\">(Documentation)</a>.<br/>\n",
              "                Project page: <a href=\"https://wandb.ai/ahmadsaaid/HARVAR_BAI\" target=\"_blank\">https://wandb.ai/ahmadsaaid/HARVAR_BAI</a><br/>\n",
              "                Run page: <a href=\"https://wandb.ai/ahmadsaaid/HARVAR_BAI/runs/1kk7332j\" target=\"_blank\">https://wandb.ai/ahmadsaaid/HARVAR_BAI/runs/1kk7332j</a><br/>\n",
              "                Run data is saved locally in <code>/content/wandb/run-20210207_221738-1kk7332j</code><br/><br/>\n",
              "            "
            ],
            "text/plain": [
              "<IPython.core.display.HTML object>"
            ]
          },
          "metadata": {
            "tags": []
          }
        },
        {
          "output_type": "stream",
          "text": [
            "{'batch_size': 10, 'base_lr': 0.01, 'model_arch': 'CustomCNN', 'num_classes': 10, 'run_name': 'assignment_1', 'use_gpu': 1, 'num_epochs': 2, 'git_dir': '/content/drive/MyDrive/Harvard_BAI'}\n",
            "2\n",
            "Starting training epoch...\n"
          ],
          "name": "stdout"
        },
        {
          "output_type": "display_data",
          "data": {
            "application/vnd.jupyter.widget-view+json": {
              "model_id": "11236bac7b1549adb450ce4050e7a655",
              "version_minor": 0,
              "version_major": 2
            },
            "text/plain": [
              "HBox(children=(FloatProgress(value=0.0, max=6000.0), HTML(value='')))"
            ]
          },
          "metadata": {
            "tags": []
          }
        },
        {
          "output_type": "stream",
          "text": [
            "\n",
            "Starting testing epoch...\n"
          ],
          "name": "stdout"
        },
        {
          "output_type": "display_data",
          "data": {
            "application/vnd.jupyter.widget-view+json": {
              "model_id": "883a9c0e354d43ab8d98f1e430aa47b8",
              "version_minor": 0,
              "version_major": 2
            },
            "text/plain": [
              "HBox(children=(FloatProgress(value=0.0, max=1000.0), HTML(value='')))"
            ]
          },
          "metadata": {
            "tags": []
          }
        },
        {
          "output_type": "stream",
          "text": [
            "\n",
            "Starting training epoch...\n"
          ],
          "name": "stdout"
        },
        {
          "output_type": "display_data",
          "data": {
            "application/vnd.jupyter.widget-view+json": {
              "model_id": "d139ec9bac274a8386608bb92282a121",
              "version_minor": 0,
              "version_major": 2
            },
            "text/plain": [
              "HBox(children=(FloatProgress(value=0.0, max=6000.0), HTML(value='')))"
            ]
          },
          "metadata": {
            "tags": []
          }
        },
        {
          "output_type": "stream",
          "text": [
            "\n",
            "Starting testing epoch...\n"
          ],
          "name": "stdout"
        },
        {
          "output_type": "display_data",
          "data": {
            "application/vnd.jupyter.widget-view+json": {
              "model_id": "edb19928af2a4dc9ae4b33417d056e4b",
              "version_minor": 0,
              "version_major": 2
            },
            "text/plain": [
              "HBox(children=(FloatProgress(value=0.0, max=1000.0), HTML(value='')))"
            ]
          },
          "metadata": {
            "tags": []
          }
        },
        {
          "output_type": "stream",
          "text": [
            "\n"
          ],
          "name": "stdout"
        },
        {
          "output_type": "display_data",
          "data": {
            "text/html": [
              "<br/>Waiting for W&B process to finish, PID 438<br/>Program ended successfully."
            ],
            "text/plain": [
              "<IPython.core.display.HTML object>"
            ]
          },
          "metadata": {
            "tags": []
          }
        },
        {
          "output_type": "display_data",
          "data": {
            "application/vnd.jupyter.widget-view+json": {
              "model_id": "39d03f2bf21949978a745f3bea216640",
              "version_minor": 0,
              "version_major": 2
            },
            "text/plain": [
              "VBox(children=(Label(value=' 0.00MB of 0.00MB uploaded (0.00MB deduped)\\r'), FloatProgress(value=1.0, max=1.0)…"
            ]
          },
          "metadata": {
            "tags": []
          }
        },
        {
          "output_type": "display_data",
          "data": {
            "text/html": [
              "Find user logs for this run at: <code>/content/wandb/run-20210207_221738-1kk7332j/logs/debug.log</code>"
            ],
            "text/plain": [
              "<IPython.core.display.HTML object>"
            ]
          },
          "metadata": {
            "tags": []
          }
        },
        {
          "output_type": "display_data",
          "data": {
            "text/html": [
              "Find internal logs for this run at: <code>/content/wandb/run-20210207_221738-1kk7332j/logs/debug-internal.log</code>"
            ],
            "text/plain": [
              "<IPython.core.display.HTML object>"
            ]
          },
          "metadata": {
            "tags": []
          }
        },
        {
          "output_type": "display_data",
          "data": {
            "text/html": [
              "<h3>Run summary:</h3><br/><style>\n",
              "    table.wandb td:nth-child(1) { padding: 0 10px; text-align: right }\n",
              "    </style><table class=\"wandb\">\n",
              "<tr><td>Current Epoch</td><td>1</td></tr><tr><td>_step</td><td>26009</td></tr><tr><td>_runtime</td><td>103</td></tr><tr><td>_timestamp</td><td>1612736361</td></tr><tr><td>train_running_loss</td><td>0.17203</td></tr><tr><td>train_running_corrects</td><td>0.7193</td></tr><tr><td>train_accuracy</td><td>0.74075</td></tr><tr><td>train_loss</td><td>0.17203</td></tr><tr><td>test_accuracy</td><td>0.7193</td></tr><tr><td>best_accuracy</td><td>0.7854</td></tr></table>"
            ],
            "text/plain": [
              "<IPython.core.display.HTML object>"
            ]
          },
          "metadata": {
            "tags": []
          }
        },
        {
          "output_type": "display_data",
          "data": {
            "text/html": [
              "<h3>Run history:</h3><br/><style>\n",
              "    table.wandb td:nth-child(1) { padding: 0 10px; text-align: right }\n",
              "    </style><table class=\"wandb\">\n",
              "<tr><td>Current Epoch</td><td>▁█</td></tr><tr><td>_step</td><td>▁▁▁▁▂▂▂▂▂▃▃▃▃▃▃▄▄▄▄▄▅▅▅▅▅▅▆▆▆▆▆▇▇▇▇▇▇███</td></tr><tr><td>_runtime</td><td>▁▁▁▁▂▂▂▂▂▃▃▃▃▃▃▄▄▄▄▄▅▅▅▅▅▅▆▆▆▆▆▇▇▇▇▇▇███</td></tr><tr><td>_timestamp</td><td>▁▁▁▁▂▂▂▂▂▃▃▃▃▃▃▄▄▄▄▄▅▅▅▅▅▅▆▆▆▆▆▇▇▇▇▇▇███</td></tr><tr><td>train_running_loss</td><td>█▅▃▃▂▂▂▂▂▂▂▂▂▂▂▂▂▂▂▂▁▁▁▂▂▂▂▂▁▁▁▁▁▁▁▁▁▁▁▁</td></tr><tr><td>train_running_corrects</td><td>▁▄▆▆▇▇▇▇▇▇▇▇▇▇▇▇▇█████▇▇▇▇▇▇▇▇▇▇▇▇▇▇▇▇▇▇</td></tr><tr><td>train_accuracy</td><td>▁█</td></tr><tr><td>train_loss</td><td>█▁</td></tr><tr><td>test_accuracy</td><td>█▁</td></tr><tr><td>best_accuracy</td><td>▁▁</td></tr></table><br/>"
            ],
            "text/plain": [
              "<IPython.core.display.HTML object>"
            ]
          },
          "metadata": {
            "tags": []
          }
        },
        {
          "output_type": "display_data",
          "data": {
            "text/html": [
              "Synced 5 W&B file(s), 0 media file(s), 0 artifact file(s) and 0 other file(s)"
            ],
            "text/plain": [
              "<IPython.core.display.HTML object>"
            ]
          },
          "metadata": {
            "tags": []
          }
        },
        {
          "output_type": "display_data",
          "data": {
            "text/html": [
              "\n",
              "                    <br/>Synced <strong style=\"color:#cdcd00\">easy-jazz-2</strong>: <a href=\"https://wandb.ai/ahmadsaaid/HARVAR_BAI/runs/1kk7332j\" target=\"_blank\">https://wandb.ai/ahmadsaaid/HARVAR_BAI/runs/1kk7332j</a><br/>\n",
              "                "
            ],
            "text/plain": [
              "<IPython.core.display.HTML object>"
            ]
          },
          "metadata": {
            "tags": []
          }
        }
      ]
    },
    {
      "cell_type": "markdown",
      "metadata": {
        "id": "t__RA9mjf7RN"
      },
      "source": [
        "### Congratulations!\n",
        "\n",
        "You just completed your first deep learning program - image classification for MNIST. This wraps up assignment 1. In the next assignment, we will see how you can make changes to above mentioned folders/files to adapt this code-base to your own research project."
      ]
    },
    {
      "cell_type": "markdown",
      "metadata": {
        "id": "xu3Yh214f7RN"
      },
      "source": [
        "# Deliverables for Assignment 1: \n",
        "\n",
        "### Please run this assignment through to the end, and then make two submissions:\n",
        "\n",
        "- Download this notebook as an HTML file. Click File ---> Download as ---> HTML. Submit this on canvas.\n",
        "- Add, commit and push these changes to your github repository."
      ]
    }
  ]
}